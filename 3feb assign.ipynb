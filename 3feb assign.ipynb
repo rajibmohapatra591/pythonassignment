{
 "cells": [
  {
   "cell_type": "code",
   "execution_count": 5,
   "id": "20ffa354-974a-4bdb-a33d-19f58033f408",
   "metadata": {},
   "outputs": [
    {
     "name": "stdout",
     "output_type": "stream",
     "text": [
      "[1, 3, 5, 7, 9, 11, 13, 15, 17, 19, 21, 23, 25]\n"
     ]
    }
   ],
   "source": [
    "# Which keyword is used to create a function?\n",
    "The def keyword is used to create, (or define) a function.\n",
    "\n",
    "#Create a function to return a list of odd numbers in the range of 1 to 25.\n",
    "\n",
    "def get_odd_numbers():\n",
    "    odd_numbers = []\n",
    "    for num in range (1,26):\n",
    "        if num %2 != 0 :\n",
    "            odd_numbers.append(num)\n",
    "    return odd_numbers\n",
    "result = get_odd_numbers()\n",
    "print(result)\n"
   ]
  },
  {
   "cell_type": "code",
   "execution_count": null,
   "id": "d4652cbc-982c-4136-b5a2-45646221a925",
   "metadata": {},
   "outputs": [],
   "source": [
    "# Why *args and **kwargs is used in some functions?\n",
    "**kwargs. \n",
    "The special syntax **kwargs in function definitions in python is used to pass a keyworded,\n",
    "variable-length argument list.\n",
    "\n",
    "\n",
    "We use the name kwargs with the double star. \n",
    "The reason is that the double star allows us to pass through keyword arguments and any number of them ."
   ]
  },
  {
   "cell_type": "code",
   "execution_count": null,
   "id": "9c0f21a2-3fa9-4131-a665-4a167b5aae21",
   "metadata": {},
   "outputs": [],
   "source": [
    "# What is an iterator in python?\n",
    "An iterator is an object\n",
    "that allows you to iterate over collections of data,\n",
    "such as lists, tuples, dictionaries, and sets.\n",
    "\n",
    "# Name the method used to initialise the iterator object and the method used for iteration.\n",
    "Iter() method is used to initialize the iterator object \n",
    "so that the instance of this object can be used for iterating\n",
    "\n"
   ]
  },
  {
   "cell_type": "code",
   "execution_count": 6,
   "id": "578ee123-1a41-4ae9-9bab-0e98e3723100",
   "metadata": {},
   "outputs": [
    {
     "name": "stdout",
     "output_type": "stream",
     "text": [
      "2\n",
      "4\n",
      "6\n",
      "8\n",
      "10\n"
     ]
    }
   ],
   "source": [
    "# Use these methods to print the first five elements of the given list [2, 4, 6, 8, 10, 12, 14, 16, 18, 20].\n",
    "\n",
    "list = [2, 4, 6, 8, 10, 12, 14, 16, 18, 20]\n",
    "iterator = iter(list)\n",
    "\n",
    "for _ in range (5) :\n",
    "    element = next (iterator)\n",
    "    print(element)"
   ]
  },
  {
   "cell_type": "code",
   "execution_count": null,
   "id": "6f43226a-6d93-4b54-817c-5a7b1975188f",
   "metadata": {},
   "outputs": [],
   "source": [
    "# What is a generator function in python?\n",
    "A Python generator function allows you\n",
    "to declare a function that behaves like an iterator,\n",
    "providing a faster and easier way to create iterators.\n",
    "\n",
    "#Why yield keyword is used?\n",
    "The yield keyword in Python controls the flow of a generator function.\n"
   ]
  },
  {
   "cell_type": "code",
   "execution_count": 7,
   "id": "9dcf00d8-3b3b-4e0c-a7cb-aa552ee625e5",
   "metadata": {},
   "outputs": [
    {
     "name": "stdout",
     "output_type": "stream",
     "text": [
      "0\n",
      "1\n",
      "1\n",
      "2\n",
      "3\n",
      "5\n",
      "8\n",
      "13\n",
      "21\n",
      "34\n"
     ]
    }
   ],
   "source": [
    "# Example of generator function\n",
    "\n",
    "def test_fib(n) :\n",
    "    a,b = 0,1\n",
    "    for i in range (n) :\n",
    "        yield a\n",
    "        a,b = b,a+b\n",
    "        \n",
    "for i in test_fib(10):\n",
    "    print(i)"
   ]
  },
  {
   "cell_type": "code",
   "execution_count": 8,
   "id": "20cf5095-4611-4e46-b1bc-53ad8be8b3fe",
   "metadata": {},
   "outputs": [
    {
     "name": "stdout",
     "output_type": "stream",
     "text": [
      "2\n",
      "3\n",
      "5\n",
      "7\n",
      "11\n",
      "13\n",
      "17\n",
      "19\n",
      "23\n",
      "29\n",
      "31\n",
      "37\n",
      "41\n",
      "43\n",
      "47\n",
      "53\n",
      "59\n",
      "61\n",
      "67\n",
      "71\n"
     ]
    }
   ],
   "source": [
    "#Create a generator function for prime numbers less than 1000. Use the next() method to print the first 20 prime numbers.\n",
    "\n",
    "def prime_generator():\n",
    "    primes = []\n",
    "    num = 2\n",
    "\n",
    "    while num < 1000:\n",
    "        is_prime = True\n",
    "        for prime in primes:\n",
    "            if num % prime == 0:\n",
    "                is_prime = False\n",
    "                break\n",
    "\n",
    "        if is_prime:\n",
    "            primes.append(num)\n",
    "            yield num\n",
    "\n",
    "        num += 1\n",
    "\n",
    "# Create a generator object\n",
    "primes = prime_generator()\n",
    "\n",
    "# Generate and print the first 20 prime numbers\n",
    "for _ in range(20):\n",
    "    print(next(primes))\n"
   ]
  },
  {
   "cell_type": "code",
   "execution_count": 9,
   "id": "df8f6a1e-8469-42ff-83a8-19d1acb13f6c",
   "metadata": {},
   "outputs": [
    {
     "name": "stdout",
     "output_type": "stream",
     "text": [
      "0\n",
      "1\n",
      "1\n",
      "2\n",
      "3\n",
      "5\n",
      "8\n",
      "13\n",
      "21\n",
      "34\n"
     ]
    }
   ],
   "source": [
    "# Write a python program to print the first 10 Fibonacci numbers using a while loop.\n",
    "\n",
    "a, b = 0, 1\n",
    "count = 0\n",
    "\n",
    "while count < 10:\n",
    "    print(a)\n",
    "    a, b = b, a + b\n",
    "    count += 1\n"
   ]
  },
  {
   "cell_type": "code",
   "execution_count": 11,
   "id": "f9149fd0-e12a-4306-b422-6472bc89f51c",
   "metadata": {},
   "outputs": [
    {
     "name": "stdout",
     "output_type": "stream",
     "text": [
      "['p', 'w', 's', 'k', 'i', 'l', 'l', 's']\n"
     ]
    }
   ],
   "source": [
    "# Write a List Comprehension to iterate through the given string: ‘pwskills’.\n",
    "# Expected output: ['p', 'w', 's', 'k', 'i', 'l', 'l', 's']\n",
    "\n",
    "string = 'pwskills'\n",
    "result = [char for char in string]\n",
    "\n",
    "print(result)\n"
   ]
  },
  {
   "cell_type": "code",
   "execution_count": 12,
   "id": "5fc557e2-3188-4dd3-81b1-2168faac1f8c",
   "metadata": {},
   "outputs": [
    {
     "name": "stdout",
     "output_type": "stream",
     "text": [
      "[1, 3, 5, 7, 9, 11, 13, 15, 17, 19, 21, 23, 25, 27, 29, 31, 33, 35, 37, 39, 41, 43, 45, 47, 49, 51, 53, 55, 57, 59, 61, 63, 65, 67, 69, 71, 73, 75, 77, 79, 81, 83, 85, 87, 89, 91, 93, 95, 97, 99]\n"
     ]
    }
   ],
   "source": [
    "# Write a code to print odd numbers from 1 to 100 using list comprehension.\n",
    "\n",
    "odd_numbers = [num for num in range(1, 101) if num % 2 != 0]\n",
    "\n",
    "print(odd_numbers)\n"
   ]
  },
  {
   "cell_type": "code",
   "execution_count": null,
   "id": "cb64a7ba-a24f-408d-8bbc-5f1b932545e6",
   "metadata": {},
   "outputs": [],
   "source": []
  }
 ],
 "metadata": {
  "kernelspec": {
   "display_name": "Python 3 (ipykernel)",
   "language": "python",
   "name": "python3"
  },
  "language_info": {
   "codemirror_mode": {
    "name": "ipython",
    "version": 3
   },
   "file_extension": ".py",
   "mimetype": "text/x-python",
   "name": "python",
   "nbconvert_exporter": "python",
   "pygments_lexer": "ipython3",
   "version": "3.10.8"
  }
 },
 "nbformat": 4,
 "nbformat_minor": 5
}
